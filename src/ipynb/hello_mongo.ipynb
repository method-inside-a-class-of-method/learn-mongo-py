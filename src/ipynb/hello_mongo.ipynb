{
 "cells": [
  {
   "cell_type": "markdown",
   "metadata": {},
   "source": [
    "# hello mongo"
   ]
  },
  {
   "cell_type": "markdown",
   "metadata": {},
   "source": [
    "## 定数"
   ]
  },
  {
   "cell_type": "code",
   "execution_count": 11,
   "metadata": {},
   "outputs": [],
   "source": [
    "MONGO_HOST = \"mongo\" # docker-composeでmongo DBを`mongo`コンテナとして起動している場合、それで名前解決できる。\n",
    "MONGO_PORT = 27017 # 既定値\n",
    "USER = \"root\" # 本例ではdocker-compose.ymlにて設定している。実運用ではセキュアなストアに格納すべき\n",
    "PASSWORD = \"example\" # 本例ではdocker-compose.ymlにて設定している。実運用ではセキュアなストアに格納すべき"
   ]
  },
  {
   "cell_type": "markdown",
   "metadata": {},
   "source": [
    " ## 接続と動作確認\n"
   ]
  },
  {
   "cell_type": "code",
   "execution_count": 12,
   "metadata": {},
   "outputs": [
    {
     "data": {
      "text/plain": [
       "{'_id': ObjectId('6703a69b7bcd46cb7726929e'),\n",
       " 'key': 'tmp key',\n",
       " 'value': 'tmp value',\n",
       " 'created_at': datetime.datetime(2024, 10, 7, 9, 15, 7, 469000)}"
      ]
     },
     "execution_count": 12,
     "metadata": {},
     "output_type": "execute_result"
    }
   ],
   "source": [
    "from pymongo import MongoClient\n",
    "from datetime import datetime\n",
    "mongo_uri = f\"mongodb://{USER}:{PASSWORD}@{MONGO_HOST}:{MONGO_PORT}/\"\n",
    "client = MongoClient(mongo_uri)\n",
    "\n",
    "# tmp DBを取得。無ければ自動作成される。\n",
    "tmp=client[\"tmp\"]\n",
    "# コレクションとして`tmp_collection`を取得、無ければ自動作成。insert_one()で値を挿入\n",
    "tmp.tmp_collection.insert_one({'key': \"tmp key\", 'value': \"tmp value\", \"created_at\": datetime.now()})\n",
    "# temp_collectionから値を一つ取得\n",
    "tmp.tmp_collection.find_one()"
   ]
  },
  {
   "cell_type": "markdown",
   "metadata": {},
   "source": [
    "Mongo Express(本リポジトリのdocker-compose.ymlの設定だとhttp://localhost:8081でアクセス可)\n",
    "\n",
    "\n",
    "\n",
    "先ほど作成したデータが入っていることをGUIでも確認できる。"
   ]
  }
 ],
 "metadata": {
  "kernelspec": {
   "display_name": "Python 3",
   "language": "python",
   "name": "python3"
  },
  "language_info": {
   "codemirror_mode": {
    "name": "ipython",
    "version": 3
   },
   "file_extension": ".py",
   "mimetype": "text/x-python",
   "name": "python",
   "nbconvert_exporter": "python",
   "pygments_lexer": "ipython3",
   "version": "3.12.7"
  }
 },
 "nbformat": 4,
 "nbformat_minor": 2
}
